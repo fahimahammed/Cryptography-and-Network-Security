{
 "cells": [
  {
   "cell_type": "code",
   "execution_count": 10,
   "metadata": {},
   "outputs": [],
   "source": [
    "def caesarCipherEncrypt(plainText, shift):\n",
    "    cipherText = ''\n",
    "    for char in plainText:\n",
    "        if char.isalpha():\n",
    "            # Determine if the character is uppercase or lowercase\n",
    "            if char.isupper():\n",
    "                asciiOffset = ord('A')\n",
    "            else:\n",
    "                asciiOffset = ord('a')\n",
    "            # Apply the Caesar cipher shift\n",
    "            shiftedChar = chr((ord(char) - asciiOffset + shift) % 26 + asciiOffset)\n",
    "            cipherText += shiftedChar\n",
    "        else:\n",
    "            # If the character is not alphabetic, leave it unchanged\n",
    "            cipherText += char\n",
    "    return cipherText"
   ]
  },
  {
   "cell_type": "code",
   "execution_count": 11,
   "metadata": {},
   "outputs": [],
   "source": [
    "\n",
    "def caesarCipherDecrypt(cipherText, shift):\n",
    "    plainText = ''\n",
    "    for char in cipherText:\n",
    "        if char.isalpha():\n",
    "            # Determine if the character is uppercase or lowercase\n",
    "            if char.isupper():\n",
    "                asciiOffset = ord('A')\n",
    "            else:\n",
    "                asciiOffset = ord('a')\n",
    "            # Apply the reverse Caesar cipher shift\n",
    "            shiftedChar = chr((ord(char) - asciiOffset - shift) % 26 + asciiOffset)\n",
    "            plainText += shiftedChar\n",
    "        else:\n",
    "            # If the character is not alphabetic, leave it unchanged\n",
    "            plainText += char\n",
    "    return plainText"
   ]
  },
  {
   "cell_type": "code",
   "execution_count": 12,
   "metadata": {},
   "outputs": [],
   "source": [
    "def transpositionEncrypt(plain_text, width = 4):\n",
    "    length = len(plain_text)\n",
    "    cipher_text = \"\"\n",
    "\n",
    "    for k in range(width):\n",
    "        # print(\"K: \", k)\n",
    "        for i in range(k, length, width): # start, stop, step\n",
    "            cipher_text += plain_text[i]\n",
    "            # print(i, cipher_text)\n",
    "    \n",
    "    return cipher_text"
   ]
  },
  {
   "cell_type": "code",
   "execution_count": 13,
   "metadata": {},
   "outputs": [],
   "source": [
    "def transpositionDecrypt(cipher_text, width = 4):\n",
    "    length = len(cipher_text)\n",
    "    plain_text = [''] * length\n",
    "    idx = 0\n",
    "\n",
    "    for k in range(width):\n",
    "        for i in range(k, length, width): \n",
    "            plain_text[i] = cipher_text[idx]\n",
    "            idx += 1\n",
    "\n",
    "    return ''.join(plain_text)"
   ]
  },
  {
   "cell_type": "code",
   "execution_count": 14,
   "metadata": {},
   "outputs": [
    {
     "name": "stdout",
     "output_type": "stream",
     "text": [
      "Plaintext:  Computer Science\n",
      "Caesar Cipher:  Frpsxwhu Vflhqfh\n",
      "Transposition Cipher:  Fwfhrhlpuhs qxVf\n",
      "----------------------------\n",
      "Transposition Plaintext:  Frpsxwhu Vflhqfh\n",
      "Plaintext:  Computer Science\n"
     ]
    }
   ],
   "source": [
    "# Example usage\n",
    "plainText = \"Computer Science\"\n",
    "\n",
    "# Encrypt the plaintext\n",
    "caesarCipher = caesarCipherEncrypt(plainText, 3)\n",
    "transpositionCipher = transpositionEncrypt(caesarCipher, 5)\n",
    "\n",
    "print(\"Plaintext: \", plainText)\n",
    "print(\"Caesar Cipher: \", caesarCipher)\n",
    "print(\"Transposition Cipher: \", transpositionCipher)\n",
    "\n",
    "# Decrypt the ciphertext\n",
    "transpositionPlaintext = transpositionDecrypt(transpositionCipher, 5)\n",
    "plain_text = caesarCipherDecrypt(transpositionPlaintext, 3)\n",
    "print(\"----------------------------\")\n",
    "print(\"Transposition Plaintext: \", transpositionPlaintext)\n",
    "print(\"Plaintext: \", plain_text)"
   ]
  }
 ],
 "metadata": {
  "kernelspec": {
   "display_name": "Python 3",
   "language": "python",
   "name": "python3"
  },
  "language_info": {
   "codemirror_mode": {
    "name": "ipython",
    "version": 3
   },
   "file_extension": ".py",
   "mimetype": "text/x-python",
   "name": "python",
   "nbconvert_exporter": "python",
   "pygments_lexer": "ipython3",
   "version": "3.9.6"
  }
 },
 "nbformat": 4,
 "nbformat_minor": 2
}
