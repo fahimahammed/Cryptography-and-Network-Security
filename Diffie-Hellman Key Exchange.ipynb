{
 "cells": [
  {
   "cell_type": "markdown",
   "metadata": {},
   "source": [
    "Diffie-Hellman Key Exchange\n",
    "\n",
    "Write a program to implement the Diffie-Hellman Key Exchange"
   ]
  },
  {
   "cell_type": "code",
   "execution_count": 2,
   "metadata": {},
   "outputs": [],
   "source": [
    "import random\n",
    "\n",
    "def diffie_hellman(prime, primitive_root):\n",
    "    XA = random.randint(1, prime - 1) # Randomly generating A's private key\n",
    "    YA = pow(primitive_root, XA, prime) # Calculating A's public key\n",
    "    print(f\"A's private key is {XA} & public key is {YA}\")\n",
    "\n",
    "    XB = random.randint(1, prime - 1) # Randomly generating B's private key\n",
    "    YB = pow(primitive_root, XB, prime) # Calculating B's public key\n",
    "    print(f\"B's private key is {XB} & public key is {YB}\")\n",
    "\n",
    "    KA = pow(YB, XA, prime) # Computing the common key at A's end from B's public key\n",
    "    KB = pow(YB, XA, prime) # Computing the common key at B's end from A's public key\n",
    "\n",
    "    print(f\"The common key generated at A's end is {KA} & B's end is {KB}\")"
   ]
  },
  {
   "cell_type": "code",
   "execution_count": 3,
   "metadata": {},
   "outputs": [
    {
     "name": "stdout",
     "output_type": "stream",
     "text": [
      "A's private key is 95 & public key is 232\n",
      "B's private key is 185 & public key is 133\n",
      "The common key generated at A's end is 144 & B's end is 144\n"
     ]
    }
   ],
   "source": [
    "prime = 253\n",
    "primitive_root = 3\n",
    "diffie_hellman(prime, primitive_root)"
   ]
  },
  {
   "cell_type": "code",
   "execution_count": null,
   "metadata": {},
   "outputs": [],
   "source": []
  }
 ],
 "metadata": {
  "kernelspec": {
   "display_name": "Python 3",
   "language": "python",
   "name": "python3"
  },
  "language_info": {
   "codemirror_mode": {
    "name": "ipython",
    "version": 3
   },
   "file_extension": ".py",
   "mimetype": "text/x-python",
   "name": "python",
   "nbconvert_exporter": "python",
   "pygments_lexer": "ipython3",
   "version": "3.9.6"
  }
 },
 "nbformat": 4,
 "nbformat_minor": 2
}
