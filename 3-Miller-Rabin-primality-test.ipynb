{
 "cells": [
  {
   "cell_type": "code",
   "execution_count": 1,
   "metadata": {},
   "outputs": [
    {
     "name": "stdout",
     "output_type": "stream",
     "text": [
      "20 is composite.\n"
     ]
    }
   ],
   "source": [
    "import random\n",
    "\n",
    "def millerRabinPrimalityTest(n, k):\n",
    "    if n <= 1:\n",
    "        return False\n",
    "    if n <= 3:\n",
    "        return True\n",
    "\n",
    "    # Find r and d such that n - 1 = 2^r * d\n",
    "    d = n - 1\n",
    "    r = 0\n",
    "    while d % 2 == 0:\n",
    "        d //= 2\n",
    "        r += 1\n",
    "\n",
    "    # Perform the Miller-Rabin test k times\n",
    "    for _ in range(k):\n",
    "        a = random.randint(2, n - 2)\n",
    "        x = pow(a, d, n)\n",
    "        if x == 1 or x == n - 1:\n",
    "            continue\n",
    "        for _ in range(r - 1):\n",
    "            x = pow(x, 2, n)\n",
    "            if x == n - 1:\n",
    "                break\n",
    "        else:\n",
    "            return False\n",
    "    return True\n",
    "\n",
    "# Example usage\n",
    "n = 20  # Number to be tested\n",
    "k = 5   # Number of iterations for the test\n",
    "\n",
    "if millerRabinPrimalityTest(n, k):\n",
    "    print(f\"{n} is likely to be prime.\")\n",
    "else:\n",
    "    print(f\"{n} is composite.\")\n"
   ]
  },
  {
   "cell_type": "code",
   "execution_count": 2,
   "metadata": {},
   "outputs": [
    {
     "name": "stdout",
     "output_type": "stream",
     "text": [
      "31 is likely to be prime.\n"
     ]
    }
   ],
   "source": [
    "import random\n",
    "\n",
    "def millerRabinPrimalityTest(n, k):\n",
    "    \"\"\"\n",
    "    Miller-Rabin Primality Test to check if a number 'n' is prime.\n",
    "    \n",
    "    Parameters:\n",
    "    n (int): The number to be tested for primality.\n",
    "    k (int): The number of iterations for accuracy (higher k gives more reliable results).\n",
    "    \n",
    "    Returns:\n",
    "    bool: True if 'n' is likely prime, False if it is composite.\n",
    "    \"\"\"\n",
    "\n",
    "    # Step 1: Handle base cases\n",
    "    if n <= 1:  # Numbers less than or equal to 1 are not prime\n",
    "        return False\n",
    "    if n <= 3:  # 2 and 3 are prime numbers\n",
    "        return True\n",
    "\n",
    "    # Step 2: Write n-1 as 2^r * d by factoring powers of 2 from n-1\n",
    "    # We need to express (n - 1) as: (n - 1) = 2^r * d where d is odd\n",
    "    d = n - 1\n",
    "    r = 0\n",
    "    while d % 2 == 0:  # Keep dividing by 2 to find 'r' and the odd part 'd'\n",
    "        d //= 2\n",
    "        r += 1\n",
    "\n",
    "    # Step 3: Perform the Miller-Rabin test 'k' times for accuracy\n",
    "    for _ in range(k):\n",
    "        # Randomly choose 'a' such that 2 <= a <= n-2\n",
    "        a = random.randint(2, n - 2)\n",
    "        \n",
    "        # Compute x = a^d % n using modular exponentiation\n",
    "        x = pow(a, d, n)  # Efficiently calculates (a^d) % n\n",
    "        \n",
    "        # Step 4: Check the conditions of the test\n",
    "        if x == 1 or x == n - 1:\n",
    "            # If x is 1 or n-1, the number passes this round of the test\n",
    "            continue\n",
    "        \n",
    "        # Step 5: Repeat squaring x to check if we can find n-1 (mod n)\n",
    "        for _ in range(r - 1):\n",
    "            x = pow(x, 2, n)  # Square x: x = x^2 % n\n",
    "            if x == n - 1:\n",
    "                # If x becomes n-1, the number passes this round of the test\n",
    "                break\n",
    "        else:\n",
    "            # If we never find x = n-1, the number is composite\n",
    "            return False\n",
    "    \n",
    "    # If the number passes all 'k' rounds, it's probably prime\n",
    "    return True\n",
    "\n",
    "# Example usage\n",
    "n = 31  # Number to be tested\n",
    "k = 5   # Number of iterations to increase accuracy\n",
    "\n",
    "if millerRabinPrimalityTest(n, k):\n",
    "    print(f\"{n} is likely to be prime.\")\n",
    "else:\n",
    "    print(f\"{n} is composite.\")\n",
    "\n",
    "\n"
   ]
  },
  {
   "cell_type": "code",
   "execution_count": null,
   "metadata": {},
   "outputs": [],
   "source": []
  }
 ],
 "metadata": {
  "kernelspec": {
   "display_name": "Python 3",
   "language": "python",
   "name": "python3"
  },
  "language_info": {
   "codemirror_mode": {
    "name": "ipython",
    "version": 3
   },
   "file_extension": ".py",
   "mimetype": "text/x-python",
   "name": "python",
   "nbconvert_exporter": "python",
   "pygments_lexer": "ipython3",
   "version": "3.9.6"
  }
 },
 "nbformat": 4,
 "nbformat_minor": 2
}
