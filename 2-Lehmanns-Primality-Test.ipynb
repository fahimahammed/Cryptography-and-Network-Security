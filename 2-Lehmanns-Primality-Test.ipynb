{
 "cells": [
  {
   "cell_type": "code",
   "execution_count": 2,
   "metadata": {},
   "outputs": [
    {
     "name": "stdout",
     "output_type": "stream",
     "text": [
      "17 may be Prime.\n"
     ]
    }
   ],
   "source": [
    "# Python code for Lehmann's Primality Test\n",
    "import random\n",
    "\n",
    "# function to check Lehmann's test\n",
    "def lehmann(n, t):\n",
    "\n",
    "    # generating a random base less than n\n",
    "    a = random.randint(2, n-1)\n",
    "\n",
    "    # calculating exponent\n",
    "    e = (n-1) // 2\n",
    "\n",
    "    # iterate to check for different base values \n",
    "    while t > 0:\n",
    "\n",
    "        # calculating final value using formula\n",
    "        result = pow(a, e, n) # base, exp, mod | (a^((n-1)/2)) (mod n) \n",
    "\n",
    "        # if not equal, try for different base\n",
    "        if result == 1 or result == n-1:\n",
    "            a = random.randint(2, n-1)\n",
    "            t -= 1\n",
    "\n",
    "        # else return negative\n",
    "        else:\n",
    "            return -1\n",
    "\n",
    "    # return positive after attempting\n",
    "    return 1\n",
    "\n",
    "# Driver code\n",
    "n = 17 # number to be tested\n",
    "t = 10 # number of tries\n",
    "\n",
    "# if n is 2, it is prime\n",
    "if n == 2:\n",
    "    print(\"2 is Prime.\")\n",
    "\n",
    "# if even, it is composite\n",
    "if n % 2 == 0:\n",
    "    print(n, \"is Composite\")\n",
    "\n",
    "# if odd, check\n",
    "else:\n",
    "    flag = lehmann(n, t)\n",
    "\n",
    "    if flag == 1:\n",
    "        print(n, \"may be Prime.\")\n",
    "\n",
    "    else:\n",
    "        print(n, \"is Composite.\")\n"
   ]
  }
 ],
 "metadata": {
  "kernelspec": {
   "display_name": "Python 3",
   "language": "python",
   "name": "python3"
  },
  "language_info": {
   "codemirror_mode": {
    "name": "ipython",
    "version": 3
   },
   "file_extension": ".py",
   "mimetype": "text/x-python",
   "name": "python",
   "nbconvert_exporter": "python",
   "pygments_lexer": "ipython3",
   "version": "3.9.6"
  }
 },
 "nbformat": 4,
 "nbformat_minor": 2
}
