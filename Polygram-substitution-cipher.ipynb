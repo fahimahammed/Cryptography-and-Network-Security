{
 "cells": [
  {
   "cell_type": "markdown",
   "metadata": {},
   "source": [
    "Polygram Substitution Cipher\n",
    "\n",
    "Find out the Polygram Substitution Cipher of a given plaintext with block size of 3. Then perform the reverse operation to get original plaintext."
   ]
  },
  {
   "cell_type": "code",
   "execution_count": 2,
   "metadata": {},
   "outputs": [],
   "source": [
    "# Reading Substitution Rules from the file \"Polygram Blocks\"\n",
    "encryption_rules, decryption_rules = {}, {}\n",
    "\n",
    "with open(\"Polygram Blocks.txt\", \"r\") as file:\n",
    "    content = file.read()\n",
    "    words = content.split()\n",
    "\n",
    "for i in range(0, len(words), 2):\n",
    "    word1, word2 = words[i], words[i + 1]\n",
    "    encryption_rules[word1] = word2\n",
    "    decryption_rules[word2] = word1"
   ]
  },
  {
   "cell_type": "code",
   "execution_count": 3,
   "metadata": {},
   "outputs": [],
   "source": [
    "def encrypt(plain_text):\n",
    "    cipher_text = \"\"\n",
    "    block = \"\"\n",
    "\n",
    "    for i in range(len(plain_text)):\n",
    "        if i and i % 3 == 0:\n",
    "            cipher_text += encryption_rules[block]\n",
    "            block = \"\"     \n",
    "        block += plain_text[i]\n",
    "    \n",
    "    cipher_text += encryption_rules[block]\n",
    "    return cipher_text"
   ]
  },
  {
   "cell_type": "code",
   "execution_count": 4,
   "metadata": {},
   "outputs": [],
   "source": [
    "def decrypt(cipher_text):\n",
    "    plain_text = \"\"\n",
    "    block = \"\"\n",
    "\n",
    "    for i in range(len(cipher_text)):\n",
    "        if i and i % 3 == 0:\n",
    "            plain_text += decryption_rules[block]\n",
    "            block = \"\"     \n",
    "        block += cipher_text[i]\n",
    "    \n",
    "    plain_text += decryption_rules[block]\n",
    "    return plain_text"
   ]
  },
  {
   "cell_type": "code",
   "execution_count": 8,
   "metadata": {},
   "outputs": [
    {
     "ename": "KeyError",
     "evalue": "'faf'",
     "output_type": "error",
     "traceback": [
      "\u001b[0;31m---------------------------------------------------------------------------\u001b[0m",
      "\u001b[0;31mKeyError\u001b[0m                                  Traceback (most recent call last)",
      "Cell \u001b[0;32mIn[8], line 2\u001b[0m\n\u001b[1;32m      1\u001b[0m plain_text \u001b[38;5;241m=\u001b[39m \u001b[38;5;28minput\u001b[39m(\u001b[38;5;124m\"\u001b[39m\u001b[38;5;124mEnter the text to encrypt: \u001b[39m\u001b[38;5;124m\"\u001b[39m)\n\u001b[0;32m----> 2\u001b[0m cipher_text \u001b[38;5;241m=\u001b[39m \u001b[43mencrypt\u001b[49m\u001b[43m(\u001b[49m\u001b[43mplain_text\u001b[49m\u001b[43m)\u001b[49m\n\u001b[1;32m      3\u001b[0m decrypted_text \u001b[38;5;241m=\u001b[39m decrypt(cipher_text)\n\u001b[1;32m      5\u001b[0m \u001b[38;5;28mprint\u001b[39m(\u001b[38;5;124mf\u001b[39m\u001b[38;5;124m\"\u001b[39m\u001b[38;5;124mPlain Text: \u001b[39m\u001b[38;5;132;01m{\u001b[39;00mplain_text\u001b[38;5;132;01m}\u001b[39;00m\u001b[38;5;124m\"\u001b[39m)\n",
      "Cell \u001b[0;32mIn[3], line 11\u001b[0m, in \u001b[0;36mencrypt\u001b[0;34m(plain_text)\u001b[0m\n\u001b[1;32m      8\u001b[0m         block \u001b[38;5;241m=\u001b[39m \u001b[38;5;124m\"\u001b[39m\u001b[38;5;124m\"\u001b[39m     \n\u001b[1;32m      9\u001b[0m     block \u001b[38;5;241m+\u001b[39m\u001b[38;5;241m=\u001b[39m plain_text[i]\n\u001b[0;32m---> 11\u001b[0m cipher_text \u001b[38;5;241m+\u001b[39m\u001b[38;5;241m=\u001b[39m \u001b[43mencryption_rules\u001b[49m\u001b[43m[\u001b[49m\u001b[43mblock\u001b[49m\u001b[43m]\u001b[49m\n\u001b[1;32m     12\u001b[0m \u001b[38;5;28;01mreturn\u001b[39;00m cipher_text\n",
      "\u001b[0;31mKeyError\u001b[0m: 'faf'"
     ]
    }
   ],
   "source": [
    "plain_text = input(\"Enter the text to encrypt: \")\n",
    "cipher_text = encrypt(plain_text)\n",
    "decrypted_text = decrypt(cipher_text)\n",
    "\n",
    "print(f\"Plain Text: {plain_text}\")\n",
    "print(f\"Encrypted Text: {cipher_text}\")\n",
    "print(f\"Decrypted Text: {decrypted_text}\")"
   ]
  },
  {
   "cell_type": "code",
   "execution_count": null,
   "metadata": {},
   "outputs": [],
   "source": []
  }
 ],
 "metadata": {
  "kernelspec": {
   "display_name": "Python 3",
   "language": "python",
   "name": "python3"
  },
  "language_info": {
   "codemirror_mode": {
    "name": "ipython",
    "version": 3
   },
   "file_extension": ".py",
   "mimetype": "text/x-python",
   "name": "python",
   "nbconvert_exporter": "python",
   "pygments_lexer": "ipython3",
   "version": "3.9.6"
  }
 },
 "nbformat": 4,
 "nbformat_minor": 2
}
