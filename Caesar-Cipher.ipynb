{
 "cells": [
  {
   "cell_type": "code",
   "execution_count": null,
   "metadata": {},
   "outputs": [],
   "source": [
    "def caesarCipherEncrypt(plainText, shift):\n",
    "    cipherText = ''\n",
    "    for char in plainText:\n",
    "        if char.isalpha():\n",
    "            # Determine if the character is uppercase or lowercase\n",
    "            if char.isupper():\n",
    "                asciiOffset = ord('A')\n",
    "            else:\n",
    "                asciiOffset = ord('a')\n",
    "            # Apply the Caesar cipher shift\n",
    "            shiftedChar = chr((ord(char) - asciiOffset + shift) % 26 + asciiOffset)\n",
    "            cipherText += shiftedChar\n",
    "        else:\n",
    "            # If the character is not alphabetic, leave it unchanged\n",
    "            cipherText += char\n",
    "    return cipherText\n",
    "\n",
    "def caesarCipherDecrypt(cipherText, shift):\n",
    "    plainText = ''\n",
    "    for char in cipherText:\n",
    "        if char.isalpha():\n",
    "            # Determine if the character is uppercase or lowercase\n",
    "            if char.isupper():\n",
    "                asciiOffset = ord('A')\n",
    "            else:\n",
    "                asciiOffset = ord('a')\n",
    "            # Apply the reverse Caesar cipher shift\n",
    "            shiftedChar = chr((ord(char) - asciiOffset - shift) % 26 + asciiOffset)\n",
    "            plainText += shiftedChar\n",
    "        else:\n",
    "            # If the character is not alphabetic, leave it unchanged\n",
    "            plainText += char\n",
    "    return plainText\n",
    "\n",
    "# Example usage\n",
    "plainText = \"ABcdefG\"\n",
    "shift = 3\n",
    "\n",
    "# Encrypt the plaintext\n",
    "cipherText = caesarCipherEncrypt(plainText, shift)\n",
    "print(\"Encrypted text:\", cipherText)\n",
    "\n",
    "# Decrypt the ciphertext\n",
    "decryptedText = caesarCipherDecrypt(cipherText, shift)\n",
    "print(\"Decrypted text:\", decryptedText)\n"
   ]
  }
 ],
 "metadata": {
  "language_info": {
   "name": "python"
  }
 },
 "nbformat": 4,
 "nbformat_minor": 2
}
