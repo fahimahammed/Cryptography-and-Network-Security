{
 "cells": [
  {
   "cell_type": "code",
   "execution_count": 1,
   "metadata": {},
   "outputs": [],
   "source": [
    "def bigmod(base, power, mod):\n",
    "\tif power==1:\n",
    "\t\treturn base\n",
    "\tsq = (base*base)%mod\n",
    "\tif power%2==0:\n",
    "\t\treturn bigmod(sq, power//2, mod)\n",
    "\telse:\n",
    "\t\treturn (bigmod(sq, power//2, mod)*base)%mod"
   ]
  },
  {
   "cell_type": "code",
   "execution_count": 2,
   "metadata": {},
   "outputs": [],
   "source": [
    "def encryptblock(block, key, mod):\n",
    "\tblock = int(block)\n",
    "\t#encrypted_block = (block**key)%mod\n",
    "\tencrypted_block = bigmod(block, key, mod)\n",
    "\tblock_cipher = str(encrypted_block)\n",
    "\treturn block_cipher"
   ]
  },
  {
   "cell_type": "code",
   "execution_count": 3,
   "metadata": {},
   "outputs": [],
   "source": [
    "def encrypt(plaintext, key, mod, inputsize):\n",
    "\tciphertext = \"\"\n",
    "\tplaintextlen = len(plaintext)\n",
    "\tfor i in range(0, plaintextlen, inputsize):\n",
    "\t\tblock = plaintext[i:i+inputsize]\n",
    "\t\tblock_cipher = encryptblock(block, key, mod)\n",
    "\t\tciphertext += block_cipher\n",
    "\treturn ciphertext"
   ]
  },
  {
   "cell_type": "code",
   "execution_count": 5,
   "metadata": {},
   "outputs": [
    {
     "name": "stdout",
     "output_type": "stream",
     "text": [
      "Original :  6882326879666683\n",
      "Encrypted :  15702756209122762423158\n",
      "Decrypted :  6882326879666683\n"
     ]
    }
   ],
   "source": [
    "original = \"6882326879666683\"\n",
    "# ans = \"15702756209122762423158\"\n",
    "e = 79\n",
    "d = 1019\n",
    "n = 3337\n",
    "encrypted = encrypt(original, e, n, 3)\n",
    "decrypted = encrypt(encrypted, d, n, 4)\n",
    "print(\"Original : \", original)\n",
    "print(\"Encrypted : \", encrypted)\n",
    "print(\"Decrypted : \", decrypted)\n"
   ]
  },
  {
   "cell_type": "code",
   "execution_count": null,
   "metadata": {},
   "outputs": [],
   "source": []
  }
 ],
 "metadata": {
  "kernelspec": {
   "display_name": "Python 3",
   "language": "python",
   "name": "python3"
  },
  "language_info": {
   "codemirror_mode": {
    "name": "ipython",
    "version": 3
   },
   "file_extension": ".py",
   "mimetype": "text/x-python",
   "name": "python",
   "nbconvert_exporter": "python",
   "pygments_lexer": "ipython3",
   "version": "3.9.6"
  }
 },
 "nbformat": 4,
 "nbformat_minor": 2
}
