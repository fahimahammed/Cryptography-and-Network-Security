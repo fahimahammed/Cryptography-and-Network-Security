{
 "cells": [
  {
   "cell_type": "markdown",
   "metadata": {},
   "source": [
    "Diffie-Hellman Key Exchange\n",
    "\n",
    "Write a program to implement the Diffie-Hellman Key Exchange"
   ]
  },
  {
   "cell_type": "code",
   "execution_count": 5,
   "metadata": {},
   "outputs": [],
   "source": [
    "import random\n",
    "\n",
    "def diffie_hellman(prime, primitive_root):\n",
    "    XA = random.randint(1, prime - 1) # Randomly generating A's private key\n",
    "    YA = pow(primitive_root, XA, prime) # Calculating A's public key\n",
    "    print(f\"A's private key is {XA} & public key is {YA}\")\n",
    "\n",
    "    XB = random.randint(1, prime - 1) # Randomly generating B's private key\n",
    "    YB = pow(primitive_root, XB, prime) # Calculating B's public key\n",
    "    print(f\"B's private key is {XB} & public key is {YB}\")\n",
    "\n",
    "    KA = pow(YB, XA, prime) # Computing the common key at A's end from B's public key\n",
    "    KB = pow(YA, XB, prime) # Computing the common key at B's end from A's public key\n",
    "\n",
    "    print(f\"The common key generated at A's end is {KA} & B's end is {KB}\")\n",
    "    "
   ]
  },
  {
   "cell_type": "code",
   "execution_count": 6,
   "metadata": {},
   "outputs": [
    {
     "name": "stdout",
     "output_type": "stream",
     "text": [
      "A's private key is 19 & public key is 7\n",
      "B's private key is 20 & public key is 12\n",
      "The common key generated at A's end is 8 & B's end is 8\n"
     ]
    }
   ],
   "source": [
    "prime = 23\n",
    "primitive_root = 5\n",
    "diffie_hellman(prime, primitive_root)"
   ]
  },
  {
   "cell_type": "code",
   "execution_count": 8,
   "metadata": {},
   "outputs": [
    {
     "name": "stdout",
     "output_type": "stream",
     "text": [
      "Publicly Shared Prime (p): 23\n",
      "Publicly Shared Base (g): 5\n",
      "\n",
      "--- Alice's Keys ---\n",
      "Alice's Private Key (a): 6\n",
      "Alice's Public Key (A): 8\n",
      "\n",
      "--- Bob's Keys ---\n",
      "Bob's Private Key (b): 14\n",
      "Bob's Public Key (B): 13\n",
      "\n",
      "--- Shared Secret ---\n",
      "Alice's Computed Shared Secret: 6\n",
      "Bob's Computed Shared Secret: 6\n",
      "\n",
      "Diffie-Hellman Key Exchange Successful. Shared secret is the same for both Alice and Bob.\n"
     ]
    }
   ],
   "source": [
    "import random\n",
    "\n",
    "# Function to perform modular exponentiation: (base^exp) % mod\n",
    "def mod_exp(base, exp, mod):\n",
    "    result = 1\n",
    "    while exp > 0:\n",
    "        if exp % 2 == 1:  # If exp is odd, multiply base with the result\n",
    "            result = (result * base) % mod\n",
    "        exp = exp // 2  # Divide the exponent by 2\n",
    "        base = (base * base) % mod  # Square the base\n",
    "    return result\n",
    "\n",
    "# Diffie-Hellman Key Exchange implementation\n",
    "def diffie_hellman(p, g):\n",
    "    # Step 1: Alice chooses a private key a and computes A\n",
    "    a = random.randint(1, p - 2)  # Private key chosen randomly\n",
    "    A = mod_exp(g, a, p)  # Public value A = g^a % p\n",
    "    print(f\"\\n--- Alice's Keys ---\")\n",
    "    print(f\"Alice's Private Key (a): {a}\")\n",
    "    print(f\"Alice's Public Key (A): {A}\")\n",
    "    \n",
    "    # Step 2: Bob chooses a private key b and computes B\n",
    "    b = random.randint(1, p - 2)  # Private key chosen randomly\n",
    "    B = mod_exp(g, b, p)  # Public value B = g^b % p\n",
    "    print(f\"\\n--- Bob's Keys ---\")\n",
    "    print(f\"Bob's Private Key (b): {b}\")\n",
    "    print(f\"Bob's Public Key (B): {B}\")\n",
    "    \n",
    "    # Step 3: Alice and Bob exchange public keys\n",
    "    # Alice computes the shared secret key: s = B^a % p\n",
    "    s_Alice = mod_exp(B, a, p)\n",
    "    # Bob computes the shared secret key: s = A^b % p\n",
    "    s_Bob = mod_exp(A, b, p)\n",
    "\n",
    "    # Both shared keys should be the same\n",
    "    print(f\"\\n--- Shared Secret ---\")\n",
    "    print(f\"Alice's Computed Shared Secret: {s_Alice}\")\n",
    "    print(f\"Bob's Computed Shared Secret: {s_Bob}\")\n",
    "\n",
    "    if s_Alice == s_Bob:\n",
    "        print(\"\\nDiffie-Hellman Key Exchange Successful. Shared secret is the same for both Alice and Bob.\")\n",
    "    else:\n",
    "        print(\"\\nDiffie-Hellman Key Exchange Failed. Shared secrets do not match.\")\n",
    "\n",
    "# Example usage\n",
    "if __name__ == \"__main__\":\n",
    "    # Step 0: Choose large prime number p and primitive root g\n",
    "    p = 23  # Small prime number for simplicity\n",
    "    g = 5   # Primitive root modulo p\n",
    "    print(f\"Publicly Shared Prime (p): {p}\")\n",
    "    print(f\"Publicly Shared Base (g): {g}\")\n",
    "\n",
    "    # Perform Diffie-Hellman Key Exchange\n",
    "    diffie_hellman(p, g)\n"
   ]
  },
  {
   "cell_type": "code",
   "execution_count": null,
   "metadata": {},
   "outputs": [],
   "source": []
  }
 ],
 "metadata": {
  "kernelspec": {
   "display_name": "Python 3",
   "language": "python",
   "name": "python3"
  },
  "language_info": {
   "codemirror_mode": {
    "name": "ipython",
    "version": 3
   },
   "file_extension": ".py",
   "mimetype": "text/x-python",
   "name": "python",
   "nbconvert_exporter": "python",
   "pygments_lexer": "ipython3",
   "version": "3.9.6"
  }
 },
 "nbformat": 4,
 "nbformat_minor": 2
}
