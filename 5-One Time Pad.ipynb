{
 "cells": [
  {
   "cell_type": "markdown",
   "metadata": {},
   "source": [
    "One Time Pad\n",
    "\n",
    "You are supplied a file of large non-repeating set of truly random key letter. Your job is to encrypt the plaintext using One Time Pad technique. Then perform the reverse operation to get original plaintext."
   ]
  },
  {
   "cell_type": "code",
   "execution_count": 15,
   "metadata": {},
   "outputs": [
    {
     "name": "stdout",
     "output_type": "stream",
     "text": [
      "pHqghUmeaYlNlfdXfircvsCxgGBwKfnqDuxwfnfOzvSRtkJPREPgGxRPnRVysTmWcysyYcqpeViKeFFMZnImkkasvwsrenZKyCxF\n"
     ]
    }
   ],
   "source": [
    "key = \"\"\n",
    "\n",
    "with open(\"one_time_pad_key.txt\", \"r\") as file:\n",
    "    key = file.read()\n",
    "\n",
    "print(key)"
   ]
  },
  {
   "cell_type": "code",
   "execution_count": 16,
   "metadata": {},
   "outputs": [],
   "source": [
    "def encrypt(plain_text):\n",
    "    cipher_text = \"\"\n",
    "    idx = 0\n",
    "\n",
    "    for ch in plain_text:\n",
    "        if ch.isalpha():\n",
    "            if ch.isupper():\n",
    "                asciiOffset = ord('A')\n",
    "            else:\n",
    "                asciiOffset = ord('a')\n",
    "\n",
    "            x = (ord(ch) - asciiOffset + ord(key[idx]) - asciiOffset) % 26\n",
    "            idx += 1\n",
    "            cipher_text += chr(asciiOffset + x)\n",
    "    \n",
    "    return cipher_text"
   ]
  },
  {
   "cell_type": "code",
   "execution_count": 17,
   "metadata": {},
   "outputs": [],
   "source": [
    "def decrypt(cipher_text):\n",
    "    plain_text = \"\"\n",
    "    idx = 0\n",
    "    \n",
    "    for ch in cipher_text:\n",
    "        if ch.isalpha():\n",
    "            if ch.isupper():\n",
    "                asciiOffset = ord('A')\n",
    "            else:\n",
    "                asciiOffset = ord('a')\n",
    "\n",
    "            x = ((ord(ch) - asciiOffset )- (ord(key[idx]) - asciiOffset)) % 26\n",
    "            idx += 1\n",
    "            plain_text += chr(asciiOffset + x)\n",
    "    \n",
    "    return plain_text"
   ]
  },
  {
   "cell_type": "code",
   "execution_count": 18,
   "metadata": {},
   "outputs": [
    {
     "name": "stdout",
     "output_type": "stream",
     "text": [
      "Plain Text: bHrtO\n",
      "Encrypted Text: qOhzB\n",
      "Decrypted Text: bHrtO\n"
     ]
    }
   ],
   "source": [
    "plain_text = input(\"Enter the text to encrypt: \")\n",
    "cipher_text = encrypt(plain_text)\n",
    "decrypted_text = decrypt(cipher_text)\n",
    "\n",
    "print(f\"Plain Text: {plain_text}\")\n",
    "print(f\"Encrypted Text: {cipher_text}\")\n",
    "print(f\"Decrypted Text: {decrypted_text}\")"
   ]
  },
  {
   "cell_type": "code",
   "execution_count": null,
   "metadata": {},
   "outputs": [],
   "source": []
  }
 ],
 "metadata": {
  "kernelspec": {
   "display_name": "Python 3",
   "language": "python",
   "name": "python3"
  },
  "language_info": {
   "codemirror_mode": {
    "name": "ipython",
    "version": 3
   },
   "file_extension": ".py",
   "mimetype": "text/x-python",
   "name": "python",
   "nbconvert_exporter": "python",
   "pygments_lexer": "ipython3",
   "version": "3.9.6"
  }
 },
 "nbformat": 4,
 "nbformat_minor": 2
}
