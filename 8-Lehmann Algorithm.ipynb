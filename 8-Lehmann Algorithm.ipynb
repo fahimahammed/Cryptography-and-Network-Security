{
 "cells": [
  {
   "cell_type": "code",
   "execution_count": 1,
   "metadata": {},
   "outputs": [],
   "source": [
    "import random"
   ]
  },
  {
   "cell_type": "code",
   "execution_count": 2,
   "metadata": {},
   "outputs": [],
   "source": [
    "def lehmannPrimalityTest(P, k):\n",
    "    \"\"\"\n",
    "    Lehmann Primality Test to check if a number P is prime.\n",
    "    \n",
    "    Parameters:\n",
    "    P (int): The number to be tested.\n",
    "    k (int): The number of iterations to increase the probability of correctness.\n",
    "    \n",
    "    Returns:\n",
    "    bool: True if P is likely prime, False if P is composite.\n",
    "    \"\"\"\n",
    "\n",
    "    # Step 1: Handle base cases\n",
    "    if P <= 1:  # Numbers less than or equal to 1 are not prime\n",
    "        return False\n",
    "    if P == 2:  # 2 is prime\n",
    "        return True\n",
    "\n",
    "    # Step 2: Perform the Lehmann test 'k' times\n",
    "    for _ in range(k):\n",
    "        # Choose a random 'a' such that 1 <= a < P\n",
    "        a = random.randint(1, P - 1)\n",
    "        \n",
    "        # Compute x = a^((P-1)/2) % P\n",
    "        x = pow(a, (P - 1) // 2, P)\n",
    "        \n",
    "        # Step 3: Check if x is 1 or P-1 (mod P)\n",
    "        if x != 1 and x != P - 1:\n",
    "            # If x is not 1 or P-1, then P is composite\n",
    "            return False\n",
    "    \n",
    "    # If P passed all iterations, it's likely prime\n",
    "    return True"
   ]
  },
  {
   "cell_type": "code",
   "execution_count": 3,
   "metadata": {},
   "outputs": [
    {
     "name": "stdout",
     "output_type": "stream",
     "text": [
      "31 is likely to be prime.\n"
     ]
    }
   ],
   "source": [
    "# Example usage\n",
    "P = 31  # Number to be tested\n",
    "k = 5   # Number of iterations to increase accuracy\n",
    "\n",
    "if lehmannPrimalityTest(P, k):\n",
    "    print(f\"{P} is likely to be prime.\")\n",
    "else:\n",
    "    print(f\"{P} is composite.\")\n"
   ]
  },
  {
   "cell_type": "code",
   "execution_count": null,
   "metadata": {},
   "outputs": [],
   "source": []
  }
 ],
 "metadata": {
  "kernelspec": {
   "display_name": "Python 3",
   "language": "python",
   "name": "python3"
  },
  "language_info": {
   "codemirror_mode": {
    "name": "ipython",
    "version": 3
   },
   "file_extension": ".py",
   "mimetype": "text/x-python",
   "name": "python",
   "nbconvert_exporter": "python",
   "pygments_lexer": "ipython3",
   "version": "3.9.6"
  }
 },
 "nbformat": 4,
 "nbformat_minor": 2
}
