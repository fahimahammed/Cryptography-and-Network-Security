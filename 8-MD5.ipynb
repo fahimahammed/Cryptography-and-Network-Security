{
 "cells": [
  {
   "cell_type": "code",
   "execution_count": 1,
   "metadata": {},
   "outputs": [
    {
     "name": "stdout",
     "output_type": "stream",
     "text": [
      "MD5 hash of 'Hello, World!' is: 65df83f7098fee59610faba72193d25d\n"
     ]
    }
   ],
   "source": [
    "import struct\n",
    "\n",
    "# Constants as defined by the MD5 algorithm\n",
    "S = [7, 12, 17, 22] * 4 + [5, 9, 14, 20] * 4 + [4, 11, 16, 23] * 4 + [6, 10, 15, 21] * 4\n",
    "K = [int(abs(struct.unpack('<i', struct.pack('<f', 2 ** 32 * abs(i)))[:1][0]) % (2 ** 32)) for i in range(64)]\n",
    "\n",
    "# Left rotation function\n",
    "def left_rotate(x, amount):\n",
    "    x &= 0xFFFFFFFF\n",
    "    return ((x << amount) | (x >> (32 - amount))) & 0xFFFFFFFF\n",
    "\n",
    "# Main MD5 algorithm function\n",
    "def md5(message):\n",
    "    # Padding the message\n",
    "    message = bytearray(message.encode('utf-8'))  # Convert to byte array\n",
    "    original_length = (8 * len(message)) & 0xFFFFFFFFFFFFFFFF  # Message length in bits\n",
    "    message.append(0x80)  # Append '1' bit (10000000 in binary)\n",
    "\n",
    "    while (len(message) * 8) % 512 != 448:\n",
    "        message.append(0)  # Pad with '0's until length is 448 modulo 512\n",
    "\n",
    "    message += struct.pack('<Q', original_length)  # Append original message length\n",
    "\n",
    "    # Initialize MD5 buffers (A, B, C, D) to constants\n",
    "    A = 0x67452301\n",
    "    B = 0xefcdab89\n",
    "    C = 0x98badcfe\n",
    "    D = 0x10325476\n",
    "\n",
    "    # Process message in 512-bit chunks\n",
    "    for chunk_offset in range(0, len(message), 64):\n",
    "        a, b, c, d = A, B, C, D\n",
    "        chunk = message[chunk_offset:chunk_offset + 64]\n",
    "        X = struct.unpack('<16I', chunk)  # Break chunk into sixteen 32-bit little-endian words\n",
    "\n",
    "        # MD5 main loop\n",
    "        for i in range(64):\n",
    "            if 0 <= i <= 15:\n",
    "                F = (b & c) | (~b & d)\n",
    "                g = i\n",
    "            elif 16 <= i <= 31:\n",
    "                F = (d & b) | (~d & c)\n",
    "                g = (5 * i + 1) % 16\n",
    "            elif 32 <= i <= 47:\n",
    "                F = b ^ c ^ d\n",
    "                g = (3 * i + 5) % 16\n",
    "            else:\n",
    "                F = c ^ (b | ~d)\n",
    "                g = (7 * i) % 16\n",
    "\n",
    "            F = (F + a + K[i] + X[g]) & 0xFFFFFFFF\n",
    "            a = d\n",
    "            d = c\n",
    "            c = b\n",
    "            b = (b + left_rotate(F, S[i])) & 0xFFFFFFFF\n",
    "\n",
    "        # Add this chunk's hash to the result so far\n",
    "        A = (A + a) & 0xFFFFFFFF\n",
    "        B = (B + b) & 0xFFFFFFFF\n",
    "        C = (C + c) & 0xFFFFFFFF\n",
    "        D = (D + d) & 0xFFFFFFFF\n",
    "\n",
    "    # Produce the final hash (A, B, C, D are concatenated in little-endian)\n",
    "    return struct.pack('<4I', A, B, C, D).hex()\n",
    "\n",
    "# Example usage\n",
    "input_string = \"Hello, World!\"\n",
    "md5_hash_value = md5(input_string)\n",
    "\n",
    "print(f\"MD5 hash of '{input_string}' is: {md5_hash_value}\")\n"
   ]
  },
  {
   "cell_type": "code",
   "execution_count": 3,
   "metadata": {},
   "outputs": [
    {
     "name": "stdout",
     "output_type": "stream",
     "text": [
      "MD5 hash of 'Hello, World!' is: 65a8e27d8879283831b664bd8b7f0ad4\n"
     ]
    }
   ],
   "source": [
    "import hashlib\n",
    "\n",
    "def computeMD5Hash(input_string):\n",
    "    \"\"\"\n",
    "    Compute the MD5 hash of a given input string.\n",
    "    \n",
    "    Parameters:\n",
    "    input_string (str): The input string to hash.\n",
    "    \n",
    "    Returns:\n",
    "    str: The resulting MD5 hash in hexadecimal format.\n",
    "    \"\"\"\n",
    "    # Step 1: Create an MD5 hash object\n",
    "    md5_hash = hashlib.md5()\n",
    "    \n",
    "    # Step 2: Update the hash object with the bytes of the input string\n",
    "    md5_hash.update(input_string.encode('utf-8'))\n",
    "    \n",
    "    # Step 3: Return the hexadecimal representation of the hash\n",
    "    return md5_hash.hexdigest()\n",
    "\n",
    "# Example usage\n",
    "input_string = \"Hello, World!\"\n",
    "md5_hash_value = computeMD5Hash(input_string)\n",
    "\n",
    "print(f\"MD5 hash of '{input_string}' is: {md5_hash_value}\")\n"
   ]
  },
  {
   "cell_type": "code",
   "execution_count": null,
   "metadata": {},
   "outputs": [],
   "source": []
  }
 ],
 "metadata": {
  "kernelspec": {
   "display_name": "Python 3",
   "language": "python",
   "name": "python3"
  },
  "language_info": {
   "codemirror_mode": {
    "name": "ipython",
    "version": 3
   },
   "file_extension": ".py",
   "mimetype": "text/x-python",
   "name": "python",
   "nbconvert_exporter": "python",
   "pygments_lexer": "ipython3",
   "version": "3.9.6"
  }
 },
 "nbformat": 4,
 "nbformat_minor": 2
}
