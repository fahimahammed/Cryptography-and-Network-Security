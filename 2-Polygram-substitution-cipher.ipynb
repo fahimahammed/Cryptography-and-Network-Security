{
 "cells": [
  {
   "cell_type": "markdown",
   "metadata": {},
   "source": [
    "Polygram Substitution Cipher\n",
    "\n",
    "Find out the Polygram Substitution Cipher of a given plaintext with block size of 3. Then perform the reverse operation to get original plaintext."
   ]
  },
  {
   "cell_type": "code",
   "execution_count": 86,
   "metadata": {},
   "outputs": [
    {
     "name": "stdout",
     "output_type": "stream",
     "text": [
      "{'abc': 'def', 'def': 'ghi', 'ghi': 'ixy', 'jkl': 'pgr', 'mno': 'qwe', 'pqr': 'ghw', 'stw': 'tyw', 'uvw': 'bhs', 'xyz': 'pqr'}\n",
      "{'def': 'abc', 'ghi': 'def', 'ixy': 'ghi', 'pgr': 'jkl', 'qwe': 'mno', 'ghw': 'pqr', 'tyw': 'stw', 'bhs': 'uvw', 'pqr': 'xyz'}\n"
     ]
    }
   ],
   "source": [
    "# Reading Substitution Rules from the file \"Polygram Blocks\"\n",
    "encryption_rules, decryption_rules = {}, {}\n",
    "\n",
    "with open(\"Polygram Blocks.txt\", \"r\") as file:\n",
    "    content = file.read()\n",
    "    words = content.split()\n",
    "\n",
    "for i in range(0, len(words), 2):\n",
    "    word1, word2 = words[i], words[i + 1]\n",
    "    encryption_rules[word1] = word2\n",
    "    decryption_rules[word2] = word1\n",
    "\n",
    "print(encryption_rules)\n",
    "print(decryption_rules)"
   ]
  },
  {
   "cell_type": "code",
   "execution_count": 87,
   "metadata": {},
   "outputs": [],
   "source": [
    "def encrypt(plain_text):\n",
    "    cipher_text = \"\"\n",
    "    block = \"\"\n",
    "    \n",
    "    for i in range(len(plain_text)):\n",
    "        if i and i % 3 == 0:\n",
    "            if block not in encryption_rules:\n",
    "                    raise ValueError(f\"Block {block} not found in encryption rules..\")\n",
    "            \n",
    "            cipher_text += encryption_rules[block]\n",
    "            block = \"\" \n",
    "\n",
    "        block += plain_text[i]\n",
    "\n",
    "    if block:\n",
    "        if block not in encryption_rules:\n",
    "            raise ValueError(f\"Block {block} not found in encryption rules.\")\n",
    "        \n",
    "        cipher_text += encryption_rules[block]\n",
    "\n",
    "    return cipher_text"
   ]
  },
  {
   "cell_type": "code",
   "execution_count": 88,
   "metadata": {},
   "outputs": [],
   "source": [
    "def decrypt(cipher_text):\n",
    "    plain_text = \"\"\n",
    "    block = \"\"\n",
    "\n",
    "    for i in range(len(cipher_text)):\n",
    "        if i and i % 3 == 0:\n",
    "            \n",
    "            if block not in decryption_rules:\n",
    "                    raise ValueError(f\"Block '{block}' not found in decryption rules.\")\n",
    "            \n",
    "            plain_text += decryption_rules[block]\n",
    "            block = \"\" \n",
    "\n",
    "        block += cipher_text[i]\n",
    "\n",
    "    if block:\n",
    "        if block not in decryption_rules:\n",
    "            raise ValueError(f\"Block {block} not found in decryption rules.\")\n",
    "        \n",
    "        plain_text += decryption_rules[block]\n",
    "\n",
    "    return plain_text"
   ]
  },
  {
   "cell_type": "code",
   "execution_count": 89,
   "metadata": {},
   "outputs": [
    {
     "name": "stdout",
     "output_type": "stream",
     "text": [
      "Block sdf not found in encryption rules.\n"
     ]
    }
   ],
   "source": [
    "plain_text = input(\"Enter the text to encrypt: \").strip()\n",
    "\n",
    "try:\n",
    "    cipher_text = encrypt(plain_text)\n",
    "    decrypted_text = decrypt(cipher_text)\n",
    "        \n",
    "    print(f\"Plain Text: {plain_text}\")\n",
    "    print(f\"Encrypted Text: {cipher_text}\")\n",
    "    print(f\"Decrypted Text: {decrypted_text}\")\n",
    "        \n",
    "except ValueError as e:\n",
    "    print(e)"
   ]
  },
  {
   "cell_type": "code",
   "execution_count": null,
   "metadata": {},
   "outputs": [],
   "source": []
  }
 ],
 "metadata": {
  "kernelspec": {
   "display_name": "Python 3",
   "language": "python",
   "name": "python3"
  },
  "language_info": {
   "codemirror_mode": {
    "name": "ipython",
    "version": 3
   },
   "file_extension": ".py",
   "mimetype": "text/x-python",
   "name": "python",
   "nbconvert_exporter": "python",
   "pygments_lexer": "ipython3",
   "version": "3.9.6"
  }
 },
 "nbformat": 4,
 "nbformat_minor": 2
}
